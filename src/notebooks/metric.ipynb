{
 "cells": [
  {
   "cell_type": "markdown",
   "metadata": {},
   "source": [
    "# Master Thesis: Sentiment Metric Creation\n",
    "\n",
    "*By Daniel Deutsch*"
   ]
  },
  {
   "cell_type": "code",
   "execution_count": 1,
   "metadata": {},
   "outputs": [],
   "source": [
    "import warnings\n",
    "from datetime import datetime\n",
    "\n",
    "import matplotlib.pyplot as plt\n",
    "import pandas as pd\n",
    "import seaborn as sns\n",
    "import statsmodels.api as sm\n",
    "from statsmodels.tsa.api import VAR\n",
    "from statsmodels.tsa.stattools import adfuller, grangercausalitytests"
   ]
  },
  {
   "cell_type": "code",
   "execution_count": 25,
   "metadata": {},
   "outputs": [],
   "source": [
    "# Ignore warnings\n",
    "warnings.filterwarnings('ignore')\n",
    "\n",
    "# Matplotlib styles\n",
    "plt.style.use('ggplot')\n",
    "plt.rcParams.update({\n",
    "    'figure.figsize': (15, 7),\n",
    "    'axes.prop_cycle': plt.cycler(color=['#4C72B0', '#C44E52', '#55A868', '#8172B2', '#CCB974', '#64B5CD']),\n",
    "    'axes.facecolor': '#EAEAF2'\n",
    "})\n",
    "\n",
    "# Config constants\n",
    "START_DATE = datetime(2019, 6, 1)\n",
    "END_DATE = datetime(2022, 6, 1)"
   ]
  },
  {
   "cell_type": "markdown",
   "metadata": {},
   "source": [
    "# Data Import"
   ]
  },
  {
   "cell_type": "code",
   "execution_count": 3,
   "metadata": {},
   "outputs": [],
   "source": [
    "# Loads the datasets\n",
    "df_ohlcv = pd.read_csv(\"./datasets/processed/ohlcv.csv.gz\", index_col=0, parse_dates=['date'], low_memory=False).set_index(['base_asset', 'date'])\n",
    "df_twits = pd.read_csv(\"./datasets/classified/twits.csv.gz\", index_col=0, parse_dates=['date'], low_memory=False)\n",
    "df_users = pd.read_csv(\"./datasets/enhanced/users.csv.gz\", index_col=0, parse_dates=['join_date'], low_memory=False).add_prefix('user.')\n",
    "\n",
    "# Add number of user followers to the twits dataframe\n",
    "df_twits = pd.merge(df_twits, df_users, on='user.id', how='left')\n",
    "df_twits['is_pred'] = df_twits['label'].isna()\n",
    "df_twits['label'] = df_twits['label'].combine_first(df_twits['label_pred'])\n",
    "df_twits = df_twits[['id', 'date', 'base_asset', 'n_likes', 'n_reshares', 'user.type', 'user.followers', 'label', 'is_pred' ]]\n",
    "df_twits['user.followers'] = df_twits['user.followers'].clip(lower=0)\n",
    "df_twits['date'] = df_twits['date'].dt.tz_localize(None)"
   ]
  },
  {
   "cell_type": "markdown",
   "metadata": {},
   "source": [
    "# Sentiment Metric"
   ]
  },
  {
   "cell_type": "markdown",
   "metadata": {},
   "source": [
    "## Engagement Rate (Modified)"
   ]
  },
  {
   "cell_type": "markdown",
   "metadata": {},
   "source": [
    "\\begin{align*}\n",
    "    \\text{Modified Engagement Rate} & = \\frac{ likes + reshares }{followers + 1}\n",
    "\\end{align*}"
   ]
  },
  {
   "cell_type": "code",
   "execution_count": 4,
   "metadata": {},
   "outputs": [],
   "source": [
    "df_twits['er'] = ( df_twits['n_likes'] + df_twits['n_reshares'] ) / (df_twits['user.followers'] + 1)"
   ]
  },
  {
   "cell_type": "markdown",
   "metadata": {},
   "source": [
    "### Average Engagement Rate Table "
   ]
  },
  {
   "cell_type": "code",
   "execution_count": null,
   "metadata": {},
   "outputs": [],
   "source": [
    "saving_folder = \"./latex\"\n",
    "df_tmp = df_twits.groupby(['user.type', 'label'])['er'].mean().unstack('user.type')\n",
    "df_tmp = df_tmp.rename_axis(None, axis=0)\n",
    "df_tmp = df_tmp.rename_axis(None, axis=1)\n",
    "df_tmp = df_tmp.rename(columns={'User': 'Human'})\n",
    "df_tmp.style.format(formatter='{:,.3f}').to_latex(\n",
    "    f\"{saving_folder}/tables/avg_er_per_label_adn_user_type.tex\",\n",
    "    caption=\"Average engagement rate for each user type and label\",\n",
    "    label=\"table:avg_er_per_label_adn_user_type\",\n",
    "    position_float='centering',\n",
    "    position='H',\n",
    "    hrules=True\n",
    ")\n",
    "df_tmp"
   ]
  },
  {
   "cell_type": "markdown",
   "metadata": {},
   "source": [
    "## Aggregated Engagement Rate"
   ]
  },
  {
   "cell_type": "code",
   "execution_count": 18,
   "metadata": {},
   "outputs": [],
   "source": [
    "# Defines masks\n",
    "mask_bull =  ( df_twits['label'] == 'Bullish' )\n",
    "mask_bull_user = ( df_twits['label'] == 'Bullish' ) & ( df_twits['user.type'] == 'User' )\n",
    "mask_bull_bot = ( df_twits['label'] == 'Bullish' ) & ( df_twits['user.type'] == 'Bot' )\n",
    "mask_bear =  ( df_twits['label'] == 'Bearish' )\n",
    "mask_bear_user = ( df_twits['label'] == 'Bearish' ) & ( df_twits['user.type'] == 'User' )\n",
    "mask_bear_bot = ( df_twits['label'] == 'Bearish' ) & ( df_twits['user.type'] == 'Bot' )\n",
    "\n",
    "# Obtains features dataframes\n",
    "df_bull = df_twits[mask_bull].groupby(['base_asset', df_twits[mask_bull]['date'].dt.floor('h')])['er'].agg(er_bull='mean')\n",
    "df_bull_user = df_twits[mask_bull_user].groupby(['base_asset', df_twits[mask_bull_user]['date'].dt.floor('h')])['er'].agg(n_twits_bull_user='size', er_bull_user='mean')\n",
    "df_bull_bot = df_twits[mask_bull_bot].groupby(['base_asset', df_twits[mask_bull_bot]['date'].dt.floor('h')])['er'].agg(n_twits_bull_bot='size', er_bull_bot='mean')\n",
    "df_bear = df_twits[mask_bear].groupby(['base_asset', df_twits[mask_bear]['date'].dt.floor('h')])['er'].agg(er_bear='mean')\n",
    "df_bear_user = df_twits[mask_bear_user].groupby(['base_asset', df_twits[mask_bear_user]['date'].dt.floor('h')])['er'].agg(n_twits_bear_user='size', er_bear_user='mean')\n",
    "df_bear_bot = df_twits[mask_bear_bot].groupby(['base_asset', df_twits[mask_bear_bot]['date'].dt.floor('h')])['er'].agg(n_twits_bear_bot='size', er_bear_bot='mean')\n",
    "\n",
    "# Obtains final dataframe\n",
    "df = pd.merge(df_bull, df_bull_user, left_index=True, right_index=True, how='outer')\n",
    "df = pd.merge(df, df_bull_bot, left_index=True, right_index=True, how='outer')\n",
    "df = pd.merge(df, df_bear, left_index=True, right_index=True, how='outer')\n",
    "df = pd.merge(df, df_bear_user, left_index=True, right_index=True, how='outer')\n",
    "df = pd.merge(df, df_bear_bot, left_index=True, right_index=True, how='outer')\n",
    "df = pd.merge(df, df_ohlcv[['price']], left_index=True, right_index=True, how='outer')\n",
    "df = df.unstack('base_asset').swaplevel(axis=1).sort_index(axis=1)\n",
    "\n",
    "# Deletes unused dataframes\n",
    "del df_ohlcv, df_twits, df_users, df_bull, df_bull_user, df_bull_bot, df_bear, df_bear_user, df_bear_bot\n",
    "\n",
    "# Saves the final dataframe\n",
    "df.to_csv(\"./datasets/metric.csv.gz\")"
   ]
  },
  {
   "cell_type": "code",
   "execution_count": null,
   "metadata": {},
   "outputs": [],
   "source": [
    "# Saving params\n",
    "saving_folder = \"./latex\"\n",
    "saving_format = 'png'\n",
    "dpi = 100\n",
    "\n",
    "axs = df['BTC'][['er_bear_bot', 'er_bear_user', 'er_bull_bot', 'er_bull_user']].plot(subplots=True, layout=(2, 2), sharex=False, legend=False, figsize=(20, 15))\n",
    "axs[0, 0].set_title(\"Bearish Twits Made by Bots\")\n",
    "axs[0, 1].set_title(\"Bearish Twits Made by Humans\")\n",
    "axs[1, 0].set_title(\"Bullish Twits Made by Bots\")\n",
    "axs[1, 1].set_title(\"Bullish Twits Made by Humans\")\n",
    "for ax in axs.flatten():\n",
    "    ax.set_xlabel(\"Date\")\n",
    "    ax.set_ylabel(\"Average Engagement Rate\")\n",
    "\n",
    "plt.savefig(f\"{saving_folder}/imgs/sentiment_metric_btc.{saving_format}\", format=saving_format, dpi=dpi, bbox_inches='tight')\n",
    "plt.show()"
   ]
  },
  {
   "cell_type": "markdown",
   "metadata": {},
   "source": [
    "## Metric Evaluation"
   ]
  },
  {
   "cell_type": "code",
   "execution_count": null,
   "metadata": {},
   "outputs": [],
   "source": [
    "df = pd.read_csv(\"./datasets/metric.csv.gz\", index_col=0, header=[0, 1])"
   ]
  },
  {
   "cell_type": "code",
   "execution_count": null,
   "metadata": {},
   "outputs": [],
   "source": [
    "def validate_stationarity(data, significance='5%', autolag='AIC'):\n",
    "    \n",
    "    cols = data.columns\n",
    "    df_results = pd.DataFrame()\n",
    "\n",
    "    for col in cols:\n",
    "\n",
    "        t_statistic, p_value, used_lags, nobs, critical_values, icbest = adfuller(data[col], autolag='AIC')\n",
    "\n",
    "        df_tmp = \n",
    "        df_results = pd.concat([df_results, df_tmp], ignore_index=True)\n",
    "\n"
   ]
  },
  {
   "cell_type": "code",
   "execution_count": null,
   "metadata": {},
   "outputs": [],
   "source": [
    "adfuller(df_btc['price_pct_change'], autolag='AIC')"
   ]
  },
  {
   "cell_type": "markdown",
   "metadata": {},
   "source": [
    "## BTC"
   ]
  },
  {
   "cell_type": "code",
   "execution_count": 22,
   "metadata": {},
   "outputs": [],
   "source": [
    "df_btc = df['BTC']\n",
    "df_btc['price_pct_change'] = df_btc['price'].pct_change()\n",
    "df_btc.dropna(inplace=True)"
   ]
  },
  {
   "cell_type": "markdown",
   "metadata": {},
   "source": [
    "### Stationarity"
   ]
  },
  {
   "cell_type": "markdown",
   "metadata": {},
   "source": [
    "### Causality Test"
   ]
  },
  {
   "cell_type": "markdown",
   "metadata": {},
   "source": [
    "### Significance"
   ]
  },
  {
   "cell_type": "code",
   "execution_count": null,
   "metadata": {},
   "outputs": [],
   "source": [
    "model = sm.OLS(df_btc['price_pct_change'], df_btc.drop(['price', 'price_pct_change'], axis=1))\n",
    "model_fit = model.fit()\n",
    "print(model_fit.summary())"
   ]
  },
  {
   "cell_type": "markdown",
   "metadata": {},
   "source": [
    "## ETH"
   ]
  },
  {
   "cell_type": "code",
   "execution_count": null,
   "metadata": {},
   "outputs": [],
   "source": [
    "df_eth = df['ETH']\n",
    "df_eth['price_pct_change'] = df_eth['price'].pct_change()\n",
    "df_eth.dropna(inplace=True)"
   ]
  },
  {
   "cell_type": "markdown",
   "metadata": {},
   "source": [
    "### Stationarity"
   ]
  },
  {
   "cell_type": "markdown",
   "metadata": {},
   "source": [
    "### Causality Test"
   ]
  },
  {
   "cell_type": "markdown",
   "metadata": {},
   "source": [
    "### Significance"
   ]
  },
  {
   "cell_type": "code",
   "execution_count": null,
   "metadata": {},
   "outputs": [],
   "source": [
    "model = sm.OLS(df_eth['price_pct_change'], df_eth.drop(['price', 'price_pct_change'], axis=1))\n",
    "model_fit = model.fit()\n",
    "print(model_fit.summary())"
   ]
  },
  {
   "cell_type": "markdown",
   "metadata": {},
   "source": [
    "## ADA"
   ]
  },
  {
   "cell_type": "code",
   "execution_count": null,
   "metadata": {},
   "outputs": [],
   "source": [
    "df_ada = df['ADA']\n",
    "df_ada['price_pct_change'] = df_ada['price'].pct_change()\n",
    "df_ada.dropna(inplace=True)"
   ]
  },
  {
   "cell_type": "markdown",
   "metadata": {},
   "source": [
    "### Stationarity"
   ]
  },
  {
   "cell_type": "markdown",
   "metadata": {},
   "source": [
    "### Causality Test"
   ]
  },
  {
   "cell_type": "markdown",
   "metadata": {},
   "source": [
    "### Significance"
   ]
  },
  {
   "cell_type": "code",
   "execution_count": null,
   "metadata": {},
   "outputs": [],
   "source": [
    "model = sm.OLS(df_ada['price_pct_change'], df_ada.drop(['price', 'price_pct_change'], axis=1))\n",
    "model_fit = model.fit()\n",
    "print(model_fit.summary())"
   ]
  },
  {
   "cell_type": "markdown",
   "metadata": {},
   "source": [
    "## SHIB"
   ]
  },
  {
   "cell_type": "code",
   "execution_count": null,
   "metadata": {},
   "outputs": [],
   "source": [
    "df_shib = df['SHIB']\n",
    "df_shib['price_pct_change'] = df_shib['price'].pct_change()\n",
    "df_shib.dropna(inplace=True)"
   ]
  },
  {
   "cell_type": "markdown",
   "metadata": {},
   "source": [
    "### Stationarity"
   ]
  },
  {
   "cell_type": "markdown",
   "metadata": {},
   "source": [
    "### Causality Test"
   ]
  },
  {
   "cell_type": "markdown",
   "metadata": {},
   "source": [
    "### Significance"
   ]
  },
  {
   "cell_type": "code",
   "execution_count": null,
   "metadata": {},
   "outputs": [],
   "source": [
    "model = sm.OLS(df_shib['price_pct_change'], df_shib.drop(['price', 'price_pct_change'], axis=1))\n",
    "model_fit = model.fit()\n",
    "print(model_fit.summary())"
   ]
  },
  {
   "cell_type": "markdown",
   "metadata": {},
   "source": [
    "## DOGE"
   ]
  },
  {
   "cell_type": "code",
   "execution_count": null,
   "metadata": {},
   "outputs": [],
   "source": [
    "df_doge = df['DOGE']\n",
    "df_doge['price_pct_change'] = df_doge['price'].pct_change()\n",
    "df_doge.dropna(inplace=True)"
   ]
  },
  {
   "cell_type": "markdown",
   "metadata": {},
   "source": [
    "### Stationarity"
   ]
  },
  {
   "cell_type": "markdown",
   "metadata": {},
   "source": [
    "### Causality Test"
   ]
  },
  {
   "cell_type": "markdown",
   "metadata": {},
   "source": [
    "### Significance"
   ]
  },
  {
   "cell_type": "code",
   "execution_count": null,
   "metadata": {},
   "outputs": [],
   "source": [
    "model = sm.OLS(df_doge['price_pct_change'], df_doge.drop(['price', 'price_pct_change'], axis=1))\n",
    "model_fit = model.fit()\n",
    "print(model_fit.summary())"
   ]
  }
 ],
 "metadata": {
  "kernelspec": {
   "display_name": "venv",
   "language": "python",
   "name": "python3"
  },
  "language_info": {
   "codemirror_mode": {
    "name": "ipython",
    "version": 3
   },
   "file_extension": ".py",
   "mimetype": "text/x-python",
   "name": "python",
   "nbconvert_exporter": "python",
   "pygments_lexer": "ipython3",
   "version": "3.9.4"
  },
  "orig_nbformat": 4
 },
 "nbformat": 4,
 "nbformat_minor": 2
}
