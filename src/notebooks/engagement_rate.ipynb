{
 "cells": [
  {
   "cell_type": "markdown",
   "metadata": {},
   "source": [
    "# The Effects of Social Media Bots on the Cryptomarket: Engagement Rate\n",
    "\n",
    "*By Daniel Deutsch*"
   ]
  },
  {
   "cell_type": "code",
   "execution_count": 1,
   "metadata": {},
   "outputs": [],
   "source": [
    "import warnings\n",
    "from datetime import datetime\n",
    "\n",
    "import matplotlib.pyplot as plt\n",
    "import pandas as pd"
   ]
  },
  {
   "cell_type": "code",
   "execution_count": 2,
   "metadata": {},
   "outputs": [],
   "source": [
    "# Ignore warnings\n",
    "warnings.filterwarnings('ignore')\n",
    "\n",
    "# Matplotlib styles\n",
    "plt.style.use('ggplot')\n",
    "plt.rcParams.update({\n",
    "    'figure.figsize': (15, 6),\n",
    "    'axes.prop_cycle': plt.cycler(color=['#4C72B0', '#C44E52', '#55A868', '#8172B2', '#CCB974', '#64B5CD']),\n",
    "    'axes.facecolor': '#EAEAF2'\n",
    "})\n",
    "\n",
    "# Constants\n",
    "START_DATE = datetime(2019, 6, 1)\n",
    "END_DATE = datetime(2022, 6, 1)"
   ]
  },
  {
   "cell_type": "markdown",
   "metadata": {},
   "source": [
    "## Calculating Engagement Rate"
   ]
  },
  {
   "cell_type": "markdown",
   "metadata": {},
   "source": [
    "### Read Datasets"
   ]
  },
  {
   "cell_type": "code",
   "execution_count": 3,
   "metadata": {},
   "outputs": [],
   "source": [
    "df_twits = pd.read_csv(\"./datasets/classified/twits.csv.gz\", index_col=0, parse_dates=['date'], low_memory=False)\n",
    "df_users = pd.read_csv(\"./datasets/enhanced/users2.csv.gz\", index_col=0, parse_dates=['join_date'], low_memory=False).add_prefix('user.')"
   ]
  },
  {
   "cell_type": "markdown",
   "metadata": {},
   "source": [
    "### Data Processing"
   ]
  },
  {
   "cell_type": "code",
   "execution_count": 4,
   "metadata": {},
   "outputs": [],
   "source": [
    "# Merges the users and the twits datasets\n",
    "df_twits = pd.merge(df_twits, df_users, on='user.id', how='left')\n",
    "\n",
    "# Merges information of original and predicted labels\n",
    "df_twits['label_final'] = df_twits['label'].combine_first(df_twits['label_pred'])\n",
    "\n",
    "# Localize the timezone of the date\n",
    "df_twits['date'] = df_twits['date'].dt.tz_localize(None)"
   ]
  },
  {
   "cell_type": "markdown",
   "metadata": {},
   "source": [
    "### Calculates the Engagement Rate\n",
    "\n",
    "\\begin{align*}\n",
    "    \\text{Engagement Rate} & = \\frac{ likes + reshares }{followers + 1}\n",
    "\\end{align*}"
   ]
  },
  {
   "cell_type": "code",
   "execution_count": 5,
   "metadata": {},
   "outputs": [],
   "source": [
    "df_twits['er'] = ( df_twits['n_likes'] + df_twits['n_reshares'] ) / (df_twits['user.followers'].clip(lower=0) + 1)"
   ]
  },
  {
   "cell_type": "markdown",
   "metadata": {},
   "source": [
    "### Aggregates Engagement Rate"
   ]
  },
  {
   "cell_type": "code",
   "execution_count": 6,
   "metadata": {},
   "outputs": [],
   "source": [
    "# Defines masks\n",
    "mask_bull =  ( df_twits['label_final'] == 'Bullish' )\n",
    "mask_bull_human = ( df_twits['label_final'] == 'Bullish' ) & ( df_twits['user.type'] == 'Human' )\n",
    "mask_bull_bot = ( df_twits['label_final'] == 'Bullish' ) & ( df_twits['user.type'] == 'Bot' )\n",
    "mask_bear =  ( df_twits['label_final'] == 'Bearish' )\n",
    "mask_bear_human = ( df_twits['label_final'] == 'Bearish' ) & ( df_twits['user.type'] == 'Human' )\n",
    "mask_bear_bot = ( df_twits['label_final'] == 'Bearish' ) & ( df_twits['user.type'] == 'Bot' )\n",
    "\n",
    "# Obtains features dataframes\n",
    "df_bull = df_twits[mask_bull].groupby(['base_asset', df_twits[mask_bull]['date'].dt.floor('h')])['er'].agg(er_bull='mean')\n",
    "df_bull_human = df_twits[mask_bull_human].groupby(['base_asset', df_twits[mask_bull_human]['date'].dt.floor('h')])['er'].agg(n_twits_bull_human='size', er_bull_human='mean')\n",
    "df_bull_bot = df_twits[mask_bull_bot].groupby(['base_asset', df_twits[mask_bull_bot]['date'].dt.floor('h')])['er'].agg(n_twits_bull_bot='size', er_bull_bot='mean')\n",
    "df_bear = df_twits[mask_bear].groupby(['base_asset', df_twits[mask_bear]['date'].dt.floor('h')])['er'].agg(er_bear='mean')\n",
    "df_bear_human = df_twits[mask_bear_human].groupby(['base_asset', df_twits[mask_bear_human]['date'].dt.floor('h')])['er'].agg(n_twits_bear_human='size', er_bear_human='mean')\n",
    "df_bear_bot = df_twits[mask_bear_bot].groupby(['base_asset', df_twits[mask_bear_bot]['date'].dt.floor('h')])['er'].agg(n_twits_bear_bot='size', er_bear_bot='mean')\n",
    "\n",
    "# Obtains final dataframe\n",
    "df_er = pd.merge(df_bull, df_bull_human, left_index=True, right_index=True, how='outer')\n",
    "df_er = pd.merge(df_er, df_bull_bot, left_index=True, right_index=True, how='outer')\n",
    "df_er = pd.merge(df_er, df_bear, left_index=True, right_index=True, how='outer')\n",
    "df_er = pd.merge(df_er, df_bear_human, left_index=True, right_index=True, how='outer')\n",
    "df_er = pd.merge(df_er, df_bear_bot, left_index=True, right_index=True, how='outer')\n",
    "df_er = df_er.unstack('base_asset').swaplevel(axis=1).sort_index(axis=1)\n",
    "\n",
    "# Deletes unused dataframes\n",
    "del df_twits, df_users, df_bull, df_bull_human, df_bull_bot, df_bear, df_bear_human, df_bear_bot\n",
    "\n",
    "# Saves the final dataframe\n",
    "df_er.to_csv(\"./datasets/engagement_rate.csv.gz\")"
   ]
  }
 ],
 "metadata": {
  "kernelspec": {
   "display_name": "venv",
   "language": "python",
   "name": "python3"
  },
  "language_info": {
   "codemirror_mode": {
    "name": "ipython",
    "version": 3
   },
   "file_extension": ".py",
   "mimetype": "text/x-python",
   "name": "python",
   "nbconvert_exporter": "python",
   "pygments_lexer": "ipython3",
   "version": "3.9.4"
  },
  "orig_nbformat": 4
 },
 "nbformat": 4,
 "nbformat_minor": 2
}
