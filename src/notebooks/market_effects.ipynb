{
 "cells": [
  {
   "cell_type": "markdown",
   "metadata": {},
   "source": [
    "# The Effects of Social Media Bots on the Cryptomarket: Market Effects\n",
    "\n",
    "*By Daniel Deutsch*"
   ]
  },
  {
   "cell_type": "code",
   "execution_count": 1,
   "metadata": {},
   "outputs": [],
   "source": [
    "import warnings\n",
    "from datetime import datetime\n",
    "\n",
    "import matplotlib.pyplot as plt\n",
    "import numpy as np\n",
    "import pandas as pd\n",
    "import seaborn as sns\n",
    "import statsmodels.api as sm\n",
    "from sklearn.preprocessing import MinMaxScaler\n",
    "from statsmodels.tsa.api import VAR\n",
    "from statsmodels.tsa.stattools import adfuller, grangercausalitytests"
   ]
  },
  {
   "cell_type": "code",
   "execution_count": 8,
   "metadata": {},
   "outputs": [],
   "source": [
    "# Ignore warnings\n",
    "warnings.filterwarnings('ignore')\n",
    "\n",
    "# Matplotlib styles\n",
    "plt.style.use('ggplot')\n",
    "plt.rcParams.update({\n",
    "    'figure.figsize': (15, 7),\n",
    "    'axes.prop_cycle': plt.cycler(color=['#4C72B0', '#C44E52', '#55A868', '#8172B2', '#CCB974', '#64B5CD']),\n",
    "    'axes.labelsize': 22,\n",
    "    'axes.titlesize': 24,\n",
    "    'xtick.labelsize': 14,\n",
    "    'ytick.labelsize': 14,\n",
    "    'legend.fontsize': 16,\n",
    "    'legend.title_fontsize': 16,\n",
    "    'axes.labelpad': 10,\n",
    "    'axes.facecolor': '#EAEAF2'\n",
    "})\n",
    "\n",
    "# Constants\n",
    "START_DATE = datetime(2019, 6, 1)\n",
    "END_DATE = datetime(2022, 6, 1)\n",
    "ALPHA = 0.05\n",
    "SAVING_FOLDER = \"./latex\"\n",
    "SAVING_FORMAT = 'png'\n",
    "DPI = 100"
   ]
  },
  {
   "cell_type": "code",
   "execution_count": 3,
   "metadata": {},
   "outputs": [],
   "source": [
    "def granger_causality_matrix(data, maxlag, test='ssr_chi2test', verbose=False):    \n",
    "    \"\"\"Check Granger Causality of all possible combinations of the Time series.\n",
    "    The rows are the response variable, columns are predictors. The values in the table \n",
    "    are the P-Values. P-Values lesser than the significance level (0.05), implies \n",
    "    the Null Hypothesis that the coefficients of the corresponding past values is \n",
    "    zero, that is, the X does not cause Y can be rejected.\n",
    "\n",
    "    data      : pandas dataframe containing the time series variables\n",
    "    variables : list containing names of the time series variables.\n",
    "    \"\"\"\n",
    "    variables = data.columns\n",
    "    df = pd.DataFrame(np.zeros((len(variables), len(variables))), columns=variables, index=variables)\n",
    "    for c in df.columns:\n",
    "        for r in df.index:\n",
    "            test_result = grangercausalitytests(data[[r, c]], maxlag=maxlag, verbose=False)\n",
    "            p_values = [round(test_result[i+1][0][test][1],4) for i in range(maxlag)]\n",
    "            if verbose: print(f'Y = {r}, X = {c}, P Values = {p_values}')\n",
    "            min_p_value = np.min(p_values)\n",
    "            df.loc[r, c] = min_p_value\n",
    "    df.columns = [var + ' X' for var in variables]\n",
    "    df.index = [var + ' Y' for var in variables]\n",
    "    return df"
   ]
  },
  {
   "cell_type": "markdown",
   "metadata": {},
   "source": [
    "## Individual Effects"
   ]
  },
  {
   "cell_type": "markdown",
   "metadata": {},
   "source": [
    "### Read Datasets"
   ]
  },
  {
   "cell_type": "code",
   "execution_count": 4,
   "metadata": {},
   "outputs": [],
   "source": [
    "df_ohlcv = pd.read_csv(\"./datasets/processed/ohlcv.csv.gz\", index_col=0, parse_dates=['date'], low_memory=False).set_index(['base_asset', 'date'])\n",
    "df_er = pd.read_csv(\"./datasets/engagement_rate.csv.gz\", index_col=0, header=[0, 1])"
   ]
  },
  {
   "cell_type": "markdown",
   "metadata": {},
   "source": [
    "### Data Processing "
   ]
  },
  {
   "cell_type": "code",
   "execution_count": 5,
   "metadata": {},
   "outputs": [],
   "source": [
    "# Converts the dtype of the index\n",
    "df_er.index = pd.to_datetime(df_er.index)\n",
    "\n",
    "# Adds the asset's closing price to the engagement rate dataframe\n",
    "df_er = pd.merge(df_er.stack(0).swaplevel(axis=0).sort_index(axis=0), df_ohlcv[['price']], left_index=True, right_index=True, how='outer').unstack('base_asset').swaplevel(axis=1).sort_index(axis=1)\n",
    "\n",
    "# Defines columns\n",
    "COLS = ['Bearish Human', 'Bullish Human', 'Bearish Bot', 'Bullish Bot']\n",
    "COL_MAP = {'er_bear_human': 'Bearish Human', 'er_bull_human': 'Bullish Human', 'er_bear_bot': 'Bearish Bot', 'er_bull_bot': 'Bullish Bot'}\n",
    "\n",
    "# BTC\n",
    "df_btc = df_er['BTC'].rename(columns=COL_MAP)\n",
    "df_btc.index = pd.to_datetime(df_btc.index)\n",
    "df_btc['Return'] = df_btc['price'].pct_change()\n",
    "df_btc = df_btc[COLS+['Return']].dropna()\n",
    "\n",
    "# ETH\n",
    "df_eth = df_er['ETH'].rename(columns=COL_MAP)\n",
    "df_eth.index = pd.to_datetime(df_eth.index)\n",
    "df_eth['Return'] = df_eth['price'].pct_change()\n",
    "df_eth = df_eth[COLS+['Return']].dropna()\n",
    "\n",
    "# DOGE\n",
    "df_doge = df_er['DOGE'].rename(columns=COL_MAP)\n",
    "df_doge.index = pd.to_datetime(df_doge.index)\n",
    "df_doge['Return'] = df_doge['price'].pct_change()\n",
    "df_doge = df_doge[COLS+['Return']].dropna()"
   ]
  },
  {
   "cell_type": "markdown",
   "metadata": {},
   "source": [
    "### BTC"
   ]
  },
  {
   "cell_type": "markdown",
   "metadata": {},
   "source": [
    "#### Correlation Matrix"
   ]
  },
  {
   "cell_type": "code",
   "execution_count": null,
   "metadata": {},
   "outputs": [],
   "source": [
    "# Obtains the correlation matrix\n",
    "corr_matrix = df_btc.corr()\n",
    "mask = np.triu(corr_matrix)\n",
    "\n",
    "# Plots the correlation matrix\n",
    "sns.heatmap(corr_matrix, annot=True, mask=mask, cmap='Blues')\n",
    "plt.xticks(rotation=45)\n",
    "plt.savefig(f\"{SAVING_FOLDER}/imgs/btc_corr_matrix.{SAVING_FORMAT}\", format=SAVING_FORMAT, dpi=DPI, bbox_inches='tight')\n",
    "plt.show()"
   ]
  },
  {
   "cell_type": "markdown",
   "metadata": {},
   "source": [
    "#### Causality Matrix"
   ]
  },
  {
   "cell_type": "markdown",
   "metadata": {},
   "source": [
    "##### Stationarity Check"
   ]
  },
  {
   "cell_type": "code",
   "execution_count": null,
   "metadata": {},
   "outputs": [],
   "source": [
    "# Variables to keep track of the number of times the diff operation was performed to reach stationarity\n",
    "df_btc_stationay = df_btc.copy().dropna()\n",
    "summary = { col: 0 for col in COLS+['Return'] }\n",
    "\n",
    "# Performs adfuller test on each column, if the time series is not stationary, gets the first difference of it\n",
    "for col in COLS:\n",
    "    t_statistic, pvalue, usedlag, nobs, critical_values, icbest = adfuller(df_btc[col])\n",
    "    while pvalue > ALPHA:\n",
    "        df_btc_stationay[col] = df_btc_stationay[col].diff() \n",
    "        t_statistic, pvalue, usedlag, nobs, critical_values, icbest = adfuller(df_btc[col])\n",
    "        summary[col] += 1\n",
    "\n",
    "# Shows how many times the first difference operation was performed in each column\n",
    "summary"
   ]
  },
  {
   "cell_type": "markdown",
   "metadata": {},
   "source": [
    "##### Number of Lags"
   ]
  },
  {
   "cell_type": "code",
   "execution_count": null,
   "metadata": {},
   "outputs": [],
   "source": [
    "# Instantiates the VAR model\n",
    "model = VAR(df_btc)\n",
    "\n",
    "# Finds the model with the lowest AIC\n",
    "best_model_fit = model.fit(1)\n",
    "for maxlag in range(2, 50):\n",
    "    model_fit = model.fit(maxlag)\n",
    "    if model_fit.aic < best_model_fit.aic:\n",
    "        best_model_fit = model_fit\n",
    "\n",
    "# Saves the lag that provides the lowest AIC\n",
    "maxlag = best_model_fit.k_ar\n",
    "maxlag"
   ]
  },
  {
   "cell_type": "markdown",
   "metadata": {},
   "source": [
    "##### Granger Causality Matrix"
   ]
  },
  {
   "cell_type": "code",
   "execution_count": null,
   "metadata": {},
   "outputs": [],
   "source": [
    "# Obtains the causality matrix\n",
    "df_tmp = granger_causality_matrix(df_btc_stationay, maxlag=maxlag)\n",
    "\n",
    "# Plots the causality matrix\n",
    "sns.heatmap(df_tmp, annot=True, cmap='Blues')\n",
    "plt.xticks(rotation=45)\n",
    "plt.savefig(f\"{SAVING_FOLDER}/imgs/causality_btc.{SAVING_FORMAT}\", format=SAVING_FORMAT, dpi=DPI, bbox_inches='tight')\n",
    "plt.show()"
   ]
  },
  {
   "cell_type": "markdown",
   "metadata": {},
   "source": [
    "#### Linear Regression"
   ]
  },
  {
   "cell_type": "markdown",
   "metadata": {},
   "source": [
    "##### Scaling"
   ]
  },
  {
   "cell_type": "code",
   "execution_count": 13,
   "metadata": {},
   "outputs": [],
   "source": [
    "scaler = MinMaxScaler()\n",
    "df_btc[COLS] = scaler.fit_transform(df_btc[COLS])"
   ]
  },
  {
   "cell_type": "markdown",
   "metadata": {},
   "source": [
    "##### Fit Regression"
   ]
  },
  {
   "cell_type": "code",
   "execution_count": null,
   "metadata": {},
   "outputs": [],
   "source": [
    "# Obtains the endogenous and exogenous variables\n",
    "y = df_btc['Return']\n",
    "X = sm.add_constant(df_btc[COLS])\n",
    "\n",
    "# Runs the OLS regression\n",
    "model = sm.OLS(y, X)\n",
    "model_fit = model.fit()\n",
    "with open(f\"{SAVING_FOLDER}/tables/ols_btc.tex\", 'w+') as f:\n",
    "    f.write(model_fit.summary().as_latex())\n",
    "print(model_fit.summary())"
   ]
  },
  {
   "cell_type": "markdown",
   "metadata": {},
   "source": [
    "### ETH"
   ]
  },
  {
   "cell_type": "markdown",
   "metadata": {},
   "source": [
    "#### Correlation Matrix"
   ]
  },
  {
   "cell_type": "code",
   "execution_count": null,
   "metadata": {},
   "outputs": [],
   "source": [
    "# Obtains the correlation matrix\n",
    "corr_matrix = df_eth.corr()\n",
    "mask = np.triu(corr_matrix)\n",
    "\n",
    "# Plots the correlation matrix\n",
    "sns.heatmap(corr_matrix, annot=True, mask=mask, cmap='Blues')\n",
    "plt.xticks(rotation=45)\n",
    "plt.savefig(f\"{SAVING_FOLDER}/imgs/eth_corr_matrix.{SAVING_FORMAT}\", format=SAVING_FORMAT, dpi=DPI, bbox_inches='tight')\n",
    "plt.show()"
   ]
  },
  {
   "cell_type": "markdown",
   "metadata": {},
   "source": [
    "#### Causality Matrix"
   ]
  },
  {
   "cell_type": "markdown",
   "metadata": {},
   "source": [
    "##### Stationarity Check"
   ]
  },
  {
   "cell_type": "code",
   "execution_count": null,
   "metadata": {},
   "outputs": [],
   "source": [
    "# Variables to keep track of the number of times the diff operation was performed to reach stationarity\n",
    "df_eth_stationay = df_eth.copy()\n",
    "summary = { col: 0 for col in COLS+['Return'] }\n",
    "\n",
    "# Performs adfuller test on each column, if the time series is not stationary, gets the first difference of it\n",
    "for col in COLS:\n",
    "    t_statistic, pvalue, usedlag, nobs, critical_values, icbest = adfuller(df_eth[col])\n",
    "    while pvalue > ALPHA:\n",
    "        df_eth_stationay[col] = df_eth_stationay[col].diff() \n",
    "        t_statistic, pvalue, usedlag, nobs, critical_values, icbest = adfuller(df_eth[col])\n",
    "        summary[col] += 1\n",
    "\n",
    "# Shows how many times the first difference operation was performed in each column\n",
    "summary"
   ]
  },
  {
   "cell_type": "markdown",
   "metadata": {},
   "source": [
    "##### Number of Lags"
   ]
  },
  {
   "cell_type": "code",
   "execution_count": null,
   "metadata": {},
   "outputs": [],
   "source": [
    "# Instantiates the VAR model\n",
    "model = VAR(df_eth)\n",
    "\n",
    "# Finds the model with the lowest AIC\n",
    "best_model_fit = model.fit(1)\n",
    "for maxlag in range(2, 50):\n",
    "    model_fit = model.fit(maxlag)\n",
    "    if model_fit.aic < best_model_fit.aic:\n",
    "        best_model_fit = model_fit\n",
    "\n",
    "# Saves the lag that provides the lowest AIC\n",
    "maxlag = best_model_fit.k_ar\n",
    "maxlag"
   ]
  },
  {
   "cell_type": "markdown",
   "metadata": {},
   "source": [
    "##### Granger Causality Matrix"
   ]
  },
  {
   "cell_type": "code",
   "execution_count": null,
   "metadata": {},
   "outputs": [],
   "source": [
    "# Obtains the causality matrix\n",
    "df_tmp = granger_causality_matrix(df_eth_stationay, maxlag=maxlag)\n",
    "\n",
    "# Plots the causality matrix\n",
    "sns.heatmap(df_tmp, annot=True, cmap='Blues')\n",
    "plt.xticks(rotation=45)\n",
    "plt.savefig(f\"{SAVING_FOLDER}/imgs/causality_eth.{SAVING_FORMAT}\", format=SAVING_FORMAT, dpi=DPI, bbox_inches='tight')\n",
    "plt.show()"
   ]
  },
  {
   "cell_type": "markdown",
   "metadata": {},
   "source": [
    "#### Linear Regression"
   ]
  },
  {
   "cell_type": "markdown",
   "metadata": {},
   "source": [
    "##### Scaling"
   ]
  },
  {
   "cell_type": "code",
   "execution_count": 19,
   "metadata": {},
   "outputs": [],
   "source": [
    "scaler = MinMaxScaler()\n",
    "df_eth[COLS] = scaler.fit_transform(df_eth[COLS])"
   ]
  },
  {
   "cell_type": "markdown",
   "metadata": {},
   "source": [
    "##### Fit Regression"
   ]
  },
  {
   "cell_type": "code",
   "execution_count": null,
   "metadata": {},
   "outputs": [],
   "source": [
    "# Obtains the endogenous and exogenous variables\n",
    "y = df_eth['Return']\n",
    "X = sm.add_constant(df_eth[COLS])\n",
    "\n",
    "# Runs the OLS regression\n",
    "model = sm.OLS(y, X)\n",
    "model_fit = model.fit()\n",
    "with open(f\"{SAVING_FOLDER}/tables/ols_eth.tex\", 'w+') as f:\n",
    "    f.write(model_fit.summary().as_latex())\n",
    "print(model_fit.summary())"
   ]
  },
  {
   "cell_type": "markdown",
   "metadata": {},
   "source": [
    "### DOGE"
   ]
  },
  {
   "cell_type": "markdown",
   "metadata": {},
   "source": [
    "#### Correlation Matrix"
   ]
  },
  {
   "cell_type": "code",
   "execution_count": null,
   "metadata": {},
   "outputs": [],
   "source": [
    "# Obtains the correlation matrix\n",
    "corr_matrix = df_doge.corr()\n",
    "mask = np.triu(corr_matrix)\n",
    "\n",
    "# Plots the correlation matrix\n",
    "sns.heatmap(corr_matrix, annot=True, mask=mask, cmap='Blues')\n",
    "plt.xticks(rotation=45)\n",
    "plt.savefig(f\"{SAVING_FOLDER}/imgs/doge_corr_matrix.{SAVING_FORMAT}\", format=SAVING_FORMAT, dpi=DPI, bbox_inches='tight')\n",
    "plt.show()"
   ]
  },
  {
   "cell_type": "markdown",
   "metadata": {},
   "source": [
    "#### Causality Matrix"
   ]
  },
  {
   "cell_type": "markdown",
   "metadata": {},
   "source": [
    "##### Stationarity Check"
   ]
  },
  {
   "cell_type": "code",
   "execution_count": null,
   "metadata": {},
   "outputs": [],
   "source": [
    "# Variables to keep track of the number of times the diff operation was performed to reach stationarity\n",
    "df_doge_stationay = df_doge.copy()\n",
    "summary = { col: 0 for col in COLS+['Return'] }\n",
    "\n",
    "# Performs adfuller test on each column, if the time series is not stationary, gets the first difference of it\n",
    "for col in COLS:\n",
    "    t_statistic, pvalue, usedlag, nobs, critical_values, icbest = adfuller(df_doge[col])\n",
    "    while pvalue > ALPHA:\n",
    "        df_doge_stationay[col] = df_doge_stationay[col].diff() \n",
    "        t_statistic, pvalue, usedlag, nobs, critical_values, icbest = adfuller(df_doge[col])\n",
    "        summary[col] += 1\n",
    "\n",
    "# Shows how many times the first difference operation was performed in each column\n",
    "summary"
   ]
  },
  {
   "cell_type": "markdown",
   "metadata": {},
   "source": [
    "##### Number of Lags"
   ]
  },
  {
   "cell_type": "code",
   "execution_count": null,
   "metadata": {},
   "outputs": [],
   "source": [
    "# Instantiates the VAR model\n",
    "model = VAR(df_doge)\n",
    "\n",
    "# Finds the model with the lowest AIC\n",
    "best_model_fit = model.fit(1)\n",
    "for maxlag in range(2, 50):\n",
    "    model_fit = model.fit(maxlag)\n",
    "    if model_fit.aic < best_model_fit.aic:\n",
    "        best_model_fit = model_fit\n",
    "\n",
    "# Saves the lag that provides the lowest AIC\n",
    "maxlag = best_model_fit.k_ar\n",
    "maxlag"
   ]
  },
  {
   "cell_type": "markdown",
   "metadata": {},
   "source": [
    "##### Granger Causality Matrix"
   ]
  },
  {
   "cell_type": "code",
   "execution_count": null,
   "metadata": {},
   "outputs": [],
   "source": [
    "# Obtains the causality matrix\n",
    "df_tmp = granger_causality_matrix(df_doge_stationay, maxlag=maxlag)\n",
    "\n",
    "# Plots the causality matrix\n",
    "sns.heatmap(df_tmp, annot=True, cmap='Blues')\n",
    "plt.xticks(rotation=45)\n",
    "plt.savefig(f\"{SAVING_FOLDER}/imgs/causality_doge.{SAVING_FORMAT}\", format=SAVING_FORMAT, dpi=DPI, bbox_inches='tight')\n",
    "plt.show()"
   ]
  },
  {
   "cell_type": "markdown",
   "metadata": {},
   "source": [
    "#### Linear Regression"
   ]
  },
  {
   "cell_type": "markdown",
   "metadata": {},
   "source": [
    "##### Scaling"
   ]
  },
  {
   "cell_type": "code",
   "execution_count": 25,
   "metadata": {},
   "outputs": [],
   "source": [
    "scaler = MinMaxScaler()\n",
    "df_doge[COLS] = scaler.fit_transform(df_doge[COLS])"
   ]
  },
  {
   "cell_type": "markdown",
   "metadata": {},
   "source": [
    "##### Fit Regression"
   ]
  },
  {
   "cell_type": "code",
   "execution_count": null,
   "metadata": {},
   "outputs": [],
   "source": [
    "# Obtains the endogenous and exogenous variables\n",
    "y = df_doge['Return']\n",
    "X = sm.add_constant(df_doge[COLS])\n",
    "\n",
    "# Runs the OLS regression\n",
    "model = sm.OLS(y, X)\n",
    "model_fit = model.fit()\n",
    "with open(f\"{SAVING_FOLDER}/tables/ols_doge.tex\", 'w+') as f:\n",
    "    f.write(model_fit.summary().as_latex())\n",
    "print(model_fit.summary())"
   ]
  },
  {
   "cell_type": "markdown",
   "metadata": {},
   "source": [
    "## Group Effects"
   ]
  }
 ],
 "metadata": {
  "kernelspec": {
   "display_name": "venv",
   "language": "python",
   "name": "python3"
  },
  "language_info": {
   "codemirror_mode": {
    "name": "ipython",
    "version": 3
   },
   "file_extension": ".py",
   "mimetype": "text/x-python",
   "name": "python",
   "nbconvert_exporter": "python",
   "pygments_lexer": "ipython3",
   "version": "3.9.4"
  },
  "orig_nbformat": 4
 },
 "nbformat": 4,
 "nbformat_minor": 2
}
